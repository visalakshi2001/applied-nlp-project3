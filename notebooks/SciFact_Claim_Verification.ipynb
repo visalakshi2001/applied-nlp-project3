{
  "cells": [
    {
      "cell_type": "code",
      "execution_count": 3,
      "metadata": {
        "colab": {
          "base_uri": "https://localhost:8080/"
        },
        "id": "dsbmxCFjnjde",
        "outputId": "19fe7c33-3989-4538-b3fa-97fc99109db6"
      },
      "outputs": [
        {
          "name": "stdout",
          "output_type": "stream",
          "text": [
            "\u001b[?25l   \u001b[90m━━━━━━━━━━━━━━━━━━━━━━━━━━━━━━━━━━━━━━━━\u001b[0m \u001b[32m0.0/76.4 kB\u001b[0m \u001b[31m?\u001b[0m eta \u001b[36m-:--:--\u001b[0m\r\u001b[2K   \u001b[91m━━━━━━━━━━━━━━━━━━━━━━━━━━━━━━━━━━━━━\u001b[0m\u001b[91m╸\u001b[0m\u001b[90m━━\u001b[0m \u001b[32m71.7/76.4 kB\u001b[0m \u001b[31m2.3 MB/s\u001b[0m eta \u001b[36m0:00:01\u001b[0m\r\u001b[2K   \u001b[90m━━━━━━━━━━━━━━━━━━━━━━━━━━━━━━━━━━━━━━━━\u001b[0m \u001b[32m76.4/76.4 kB\u001b[0m \u001b[31m1.8 MB/s\u001b[0m eta \u001b[36m0:00:00\u001b[0m\n",
            "\u001b[?25h"
          ]
        }
      ],
      "source": [
        "!pip install -q 'httpx==0.27.2'"
      ]
    },
    {
      "cell_type": "code",
      "execution_count": 1,
      "metadata": {
        "id": "V3IjaNiQCPTd"
      },
      "outputs": [],
      "source": [
        "import openai\n",
        "# from google.colab import userdata\n",
        "# openai_api_key = userdata.get('OPENAI_API_KEY')\n",
        "\n",
        "from time import sleep\n",
        "import os\n",
        "import pandas as pd\n",
        "import json\n",
        "import csv\n",
        "from ast import literal_eval\n",
        "import re\n",
        "import numpy as np"
      ]
    },
    {
      "cell_type": "code",
      "execution_count": 8,
      "metadata": {
        "id": "eyuFJ_ApraR5"
      },
      "outputs": [],
      "source": [
        "corpus = pd.read_json('corpus.jsonl', lines=True)\n",
        "train_df = pd.read_json('claims_train.jsonl', lines=True)"
      ]
    },
    {
      "cell_type": "code",
      "execution_count": 9,
      "metadata": {
        "id": "uHBSMQru9iVJ"
      },
      "outputs": [],
      "source": [
        "train_df = train_df[train_df['evidence'] != {}].reset_index(drop=True)"
      ]
    },
    {
      "cell_type": "code",
      "execution_count": 11,
      "metadata": {
        "id": "xwOFGEln94lw"
      },
      "outputs": [],
      "source": [
        "# iter through train_df and get the abstract and title from the cited_doc_ids by mapping them to corpus\n",
        "# then making new columns in train_df containing the abstract, title, gold_evidence sentences, label\n",
        "\n",
        "extended_train_df = pd.DataFrame(columns=['id', 'claim', 'abstract', 'title', 'gold_evidence', 'label', 'cited_doc_ids', 'evidence'])\n",
        "\n",
        "for i, row in train_df.iterrows():\n",
        "    id = row['id']\n",
        "    claim = row['claim']\n",
        "    evidence = row['evidence']\n",
        "    cited_doc_ids = row['cited_doc_ids']\n",
        "    cited_doc_ids = [int(x) for x in cited_doc_ids]\n",
        "\n",
        "    for doc_id in cited_doc_ids:\n",
        "        if str(doc_id) not in evidence:\n",
        "            continue\n",
        "        document = corpus[corpus['doc_id'] == doc_id].iloc[0]\n",
        "        abstract = document['abstract']\n",
        "        title = document['title']\n",
        "        gold_evidence = []\n",
        "        label = []\n",
        "        for evidence_dict in evidence[str(doc_id)]:\n",
        "            gold_evidence.extend([sentence for i,sentence in enumerate(abstract) if i in evidence_dict['sentences']])\n",
        "            label.append(evidence_dict['label'])\n",
        "        label = list(set(label))[0]\n",
        "\n",
        "        extended_train_item = {\n",
        "            'id': id,\n",
        "            'claim': claim,\n",
        "            'abstract': \" \".join(abstract),\n",
        "            'title': title,\n",
        "            'gold_evidence': gold_evidence,\n",
        "            'label': label,\n",
        "            'cited_doc_ids': cited_doc_ids,\n",
        "            'evidence': evidence\n",
        "        }\n",
        "\n",
        "        with open('extended_train.jsonl', 'a+') as f:\n",
        "            f.write(json.dumps(extended_train_item) + '\\n')\n",
        "\n",
        "        extended_train_df.loc[len(extended_train_df)] = [id, claim, \" \".join(abstract), title, gold_evidence, label, cited_doc_ids, evidence]\n",
        "\n"
      ]
    },
    {
      "cell_type": "code",
      "execution_count": 8,
      "metadata": {
        "id": "3zis86BLCQUH"
      },
      "outputs": [],
      "source": [
        "extended_train_df.to_csv('extended_claims_train.csv', index=False)"
      ]
    },
    {
      "cell_type": "code",
      "execution_count": 5,
      "metadata": {
        "id": "XnjjtbQXnf3i"
      },
      "outputs": [],
      "source": [
        "client = openai.OpenAI(api_key=userdata.get('OPENAI_API_KEY'))\n",
        "\n",
        "with open('simulation_utils.py', 'r') as f:\n",
        "    simulation_template = f.read()\n",
        "\n",
        "with open('bacteria.py', 'r') as f:\n",
        "    example_bacteria = f.read()"
      ]
    },
    {
      "cell_type": "code",
      "execution_count": 38,
      "metadata": {
        "id": "jz17LIPwmORh"
      },
      "outputs": [],
      "source": [
        "\n",
        "def get_gpt_response(id, claim, reference_text, gold_evidence, model=\"gpt-4o-mini\", **kwargs):\n",
        "\n",
        "    if not os.path.exists('gpt_results/'):\n",
        "        os.makedirs('gpt_results/')\n",
        "\n",
        "    system_prompt = \"\"\"\n",
        "        You are a scientific claim inspector, who can catch fake claims accurately and verify correct claims efficiently.\n",
        "        Your main process is building simulation for building environment for testing out claims. You compare the results\n",
        "        of a simulation with a given claim and provide verification results as Supported (for True claims) and Refuted (for False claims).\n",
        "\n",
        "        You will be given the following information below:\n",
        "        1. A Claim\n",
        "        2. A passage of supporting text from a scientific article that can be used to help verify the claim.\n",
        "           Sometimes you will be provided with specific gold_sentences where the evidence of claim's veracity can be found.\n",
        "        3. An example simulation that can be used as a template to help guide your construction of a simulation\n",
        "\n",
        "        Your output will be a Python simulation whose output will clearly determine whether the claim is likely supported or refuted.\n",
        "\n",
        "        Also, You must output the simulation between clodeblocks (```), or the simulation will not be correctly parsed.\n",
        "\n",
        "        For example:\n",
        "        ```\n",
        "        # python comment stating the input claim\n",
        "        # code fo the simulation\n",
        "        # print the output of the simulation\n",
        "        print(result)\n",
        "        ```\n",
        "    \"\"\"\n",
        "\n",
        "    user_prompt = f\"\"\"\n",
        "        Claim: {claim}\n",
        "        Reference Text: {reference_text}\n",
        "\n",
        "        Gold Sentence that can provide the evidence of claim verification: {\"\".join(gold_evidence)}\n",
        "\n",
        "        ```\n",
        "        # simulation_utils.py\n",
        "        {simulation_template}\n",
        "\n",
        "        # bacteria simulation example\n",
        "        {example_bacteria}\n",
        "        ```\n",
        "\n",
        "        Rules for the output:\n",
        "        1. Generate simulation according to the given Claim, take Reference Text to figure out the objects of the simulation and their properties.\n",
        "        2. The generated code should not generate any errors\n",
        "        3. If you are extending upon the given base template, or using code from the base template, include it in your code by using either of the two ways mentioned below:\n",
        "            a. import statements (importing the classes from base template simulation_utils.py)\n",
        "            OR\n",
        "            b. writing the whole base template code before your simulation code\n",
        "\n",
        "        4. Make sure the output of the simulation is appropriate to the given instructions.\n",
        "        5. It clearly determines/shows if the  claim is supported or refuted.\n",
        "\n",
        "        Please generate your simulation now\n",
        "    \"\"\"\n",
        "\n",
        "    messages=[{\"role\": \"system\", \"content\": system_prompt},\n",
        "                {\"role\": \"user\", \"content\": user_prompt}]\n",
        "\n",
        "    kwargs[\"temperature\"] = 0.0\n",
        "    kwargs[\"top_p\"] = 1\n",
        "    kwargs[\"frequency_penalty\"] = 0.0\n",
        "    kwargs[\"presence_penalty\"] = 0.0\n",
        "    kwargs[\"timeout\"] = 4*10*60  # 40 minutes\n",
        "    kwargs[\"model\"] = model\n",
        "    kwargs[\"messages\"] = messages\n",
        "\n",
        "\n",
        "    response = client.chat.completions.create(**kwargs)\n",
        "\n",
        "    with open(f'gpt_results/prompt_{id}.txt', 'w') as f:\n",
        "        f.write(user_prompt)\n",
        "\n",
        "    with open(f'gpt_results/response_{id}.txt', 'w') as f:\n",
        "        f.write(response.choices[0].message.content.strip())\n",
        "\n",
        "    return response.choices[0].message.content.strip()\n"
      ]
    },
    {
      "cell_type": "code",
      "execution_count": 39,
      "metadata": {
        "id": "onPf_Gkmwlhm"
      },
      "outputs": [],
      "source": [
        "def parse_gpt_response(response):\n",
        "    if not os.path.exists('simscripts/'):\n",
        "        os.makedirs('simscripts/')\n",
        "\n",
        "    code_block_pattern = r'```(.*?)```'\n",
        "    code_blocks = re.findall(code_block_pattern, response, re.DOTALL)\n",
        "    code_block = ''.join(code_blocks)\n",
        "\n",
        "    with open(f'simscripts/simulation_{id}.py', 'w') as f:\n",
        "        f.write(code_block)\n",
        "\n",
        "    return code_block\n",
        "\n",
        "def run_generated_simulation(code_block):\n",
        "    import sys\n",
        "    from io import StringIO\n",
        "    old_stdout = sys.stdout\n",
        "    sys.stdout = StringIO()\n",
        "\n",
        "\n",
        "    std_out = \"\"\n",
        "    std_err = \"\"\n",
        "    try:\n",
        "        exec(code_block)\n",
        "        std_out = sys.stdout.getvalue()\n",
        "        sys.stdout = old_stdout\n",
        "\n",
        "    except Exception as e:\n",
        "        a,b,c = sys.exc_info()\n",
        "        std_err = str(a) + \"\\n\" + str(b) + \"\\n\" + str(c)\n",
        "\n",
        "    with open(f'simscripts/std_out_{id}.txt', 'w') as f:\n",
        "        f.write(std_out)\n",
        "\n",
        "    with open(f'simscripts/std_err_{id}.txt', 'w') as f:\n",
        "        f.write(std_err)\n",
        "\n",
        "    return std_out, std_err\n"
      ]
    },
    {
      "cell_type": "code",
      "execution_count": 53,
      "metadata": {
        "id": "kth7_9YgyoHQ"
      },
      "outputs": [],
      "source": [
        "train_annotated = pd.read_json('/content/extended_train_annotated.jsonl', lines=True)"
      ]
    },
    {
      "cell_type": "code",
      "execution_count": 63,
      "metadata": {
        "colab": {
          "base_uri": "https://localhost:8080/",
          "height": 178
        },
        "id": "ryO17CB18S2Y",
        "outputId": "e3961711-1cb1-4d28-8f5b-44752528aafa"
      },
      "outputs": [
        {
          "data": {
            "text/html": [
              "<div>\n",
              "<style scoped>\n",
              "    .dataframe tbody tr th:only-of-type {\n",
              "        vertical-align: middle;\n",
              "    }\n",
              "\n",
              "    .dataframe tbody tr th {\n",
              "        vertical-align: top;\n",
              "    }\n",
              "\n",
              "    .dataframe thead th {\n",
              "        text-align: right;\n",
              "    }\n",
              "</style>\n",
              "<table border=\"1\" class=\"dataframe\">\n",
              "  <thead>\n",
              "    <tr style=\"text-align: right;\">\n",
              "      <th></th>\n",
              "      <th>count</th>\n",
              "    </tr>\n",
              "    <tr>\n",
              "      <th>label</th>\n",
              "      <th></th>\n",
              "    </tr>\n",
              "  </thead>\n",
              "  <tbody>\n",
              "    <tr>\n",
              "      <th>SUPPORT</th>\n",
              "      <td>51</td>\n",
              "    </tr>\n",
              "    <tr>\n",
              "      <th>CONTRADICT</th>\n",
              "      <td>41</td>\n",
              "    </tr>\n",
              "  </tbody>\n",
              "</table>\n",
              "</div><br><label><b>dtype:</b> int64</label>"
            ],
            "text/plain": [
              "label\n",
              "SUPPORT       51\n",
              "CONTRADICT    41\n",
              "Name: count, dtype: int64"
            ]
          },
          "execution_count": 63,
          "metadata": {},
          "output_type": "execute_result"
        }
      ],
      "source": [
        "train_annotated[train_annotated['category'] == 'directional']['label'].value_counts()"
      ]
    },
    {
      "cell_type": "code",
      "execution_count": 61,
      "metadata": {
        "colab": {
          "base_uri": "https://localhost:8080/",
          "height": 303
        },
        "id": "t7YFg5hNvR2F",
        "outputId": "4d4f23ba-5a3d-4b79-aaf8-3ad422c67d38"
      },
      "outputs": [
        {
          "data": {
            "text/html": [
              "<div>\n",
              "<style scoped>\n",
              "    .dataframe tbody tr th:only-of-type {\n",
              "        vertical-align: middle;\n",
              "    }\n",
              "\n",
              "    .dataframe tbody tr th {\n",
              "        vertical-align: top;\n",
              "    }\n",
              "\n",
              "    .dataframe thead th {\n",
              "        text-align: right;\n",
              "    }\n",
              "</style>\n",
              "<table border=\"1\" class=\"dataframe\">\n",
              "  <thead>\n",
              "    <tr style=\"text-align: right;\">\n",
              "      <th></th>\n",
              "      <th>count</th>\n",
              "    </tr>\n",
              "    <tr>\n",
              "      <th>category</th>\n",
              "      <th></th>\n",
              "    </tr>\n",
              "  </thead>\n",
              "  <tbody>\n",
              "    <tr>\n",
              "      <th>biology</th>\n",
              "      <td>267</td>\n",
              "    </tr>\n",
              "    <tr>\n",
              "      <th>cellular</th>\n",
              "      <td>126</td>\n",
              "    </tr>\n",
              "    <tr>\n",
              "      <th>directional</th>\n",
              "      <td>92</td>\n",
              "    </tr>\n",
              "    <tr>\n",
              "      <th>population</th>\n",
              "      <td>53</td>\n",
              "    </tr>\n",
              "    <tr>\n",
              "      <th>medicine</th>\n",
              "      <td>22</td>\n",
              "    </tr>\n",
              "    <tr>\n",
              "      <th>epidemiology</th>\n",
              "      <td>4</td>\n",
              "    </tr>\n",
              "  </tbody>\n",
              "</table>\n",
              "</div><br><label><b>dtype:</b> int64</label>"
            ],
            "text/plain": [
              "category\n",
              "biology         267\n",
              "cellular        126\n",
              "directional      92\n",
              "population       53\n",
              "medicine         22\n",
              "epidemiology      4\n",
              "Name: count, dtype: int64"
            ]
          },
          "execution_count": 61,
          "metadata": {},
          "output_type": "execute_result"
        }
      ],
      "source": [
        "train_annotated['category'].value_counts()"
      ]
    },
    {
      "cell_type": "code",
      "execution_count": 54,
      "metadata": {
        "colab": {
          "base_uri": "https://localhost:8080/",
          "height": 366
        },
        "id": "j6sdL3x50egA",
        "outputId": "1fb098a2-574f-4365-c7ce-d6b59dacc251"
      },
      "outputs": [
        {
          "data": {
            "text/html": [
              "<div>\n",
              "<style scoped>\n",
              "    .dataframe tbody tr th:only-of-type {\n",
              "        vertical-align: middle;\n",
              "    }\n",
              "\n",
              "    .dataframe tbody tr th {\n",
              "        vertical-align: top;\n",
              "    }\n",
              "\n",
              "    .dataframe thead th {\n",
              "        text-align: right;\n",
              "    }\n",
              "</style>\n",
              "<table border=\"1\" class=\"dataframe\">\n",
              "  <thead>\n",
              "    <tr style=\"text-align: right;\">\n",
              "      <th></th>\n",
              "      <th>526</th>\n",
              "    </tr>\n",
              "  </thead>\n",
              "  <tbody>\n",
              "    <tr>\n",
              "      <th>id</th>\n",
              "      <td>1327</td>\n",
              "    </tr>\n",
              "    <tr>\n",
              "      <th>claim</th>\n",
              "      <td>Tuberculosis incidence occurs at higher rates ...</td>\n",
              "    </tr>\n",
              "    <tr>\n",
              "      <th>category</th>\n",
              "      <td>population</td>\n",
              "    </tr>\n",
              "    <tr>\n",
              "      <th>abstract</th>\n",
              "      <td>This paper seeks to establish the strength of ...</td>\n",
              "    </tr>\n",
              "    <tr>\n",
              "      <th>title</th>\n",
              "      <td>Tuberculosis mortality in England and Wales du...</td>\n",
              "    </tr>\n",
              "    <tr>\n",
              "      <th>gold_evidence</th>\n",
              "      <td>[A strong association was found between all TB...</td>\n",
              "    </tr>\n",
              "    <tr>\n",
              "      <th>label</th>\n",
              "      <td>CONTRADICT</td>\n",
              "    </tr>\n",
              "    <tr>\n",
              "      <th>cited_doc_ids</th>\n",
              "      <td>[24241932, 22194407]</td>\n",
              "    </tr>\n",
              "    <tr>\n",
              "      <th>evidence</th>\n",
              "      <td>{'24241932': [{'sentences': [6], 'label': 'CON...</td>\n",
              "    </tr>\n",
              "  </tbody>\n",
              "</table>\n",
              "</div><br><label><b>dtype:</b> object</label>"
            ],
            "text/plain": [
              "id                                                            1327\n",
              "claim            Tuberculosis incidence occurs at higher rates ...\n",
              "category                                                population\n",
              "abstract         This paper seeks to establish the strength of ...\n",
              "title            Tuberculosis mortality in England and Wales du...\n",
              "gold_evidence    [A strong association was found between all TB...\n",
              "label                                                   CONTRADICT\n",
              "cited_doc_ids                                 [24241932, 22194407]\n",
              "evidence         {'24241932': [{'sentences': [6], 'label': 'CON...\n",
              "Name: 526, dtype: object"
            ]
          },
          "execution_count": 54,
          "metadata": {},
          "output_type": "execute_result"
        }
      ],
      "source": [
        "row = train_annotated.sample(1).iloc[0]\n",
        "row"
      ]
    },
    {
      "cell_type": "code",
      "execution_count": 60,
      "metadata": {
        "colab": {
          "base_uri": "https://localhost:8080/"
        },
        "id": "T8Pl140hpAvy",
        "outputId": "a888c609-d3a8-44d7-cff8-5875dab3e167"
      },
      "outputs": [
        {
          "name": "stdout",
          "output_type": "stream",
          "text": [
            "```\n",
            "# Claim: A mutation in HNF4A leads to an increased risk of developing diabetes by the age of 14 years.\n",
            "# The simulation will assess the impact of HNF4A mutations on insulin secretion and diabetes risk.\n",
            "\n",
            "from simulation_utils import GameObject, Container\n",
            "\n",
            "class HNF4A(GameObject):\n",
            "    def __init__(self, mutation_status=\"wild_type\"):\n",
            "        super().__init__(\"HNF4A\")\n",
            "        self.mutation_status = mutation_status\n",
            "        self.insulin_secretion = 100  # baseline insulin secretion\n",
            "\n",
            "    def tick(self):\n",
            "        if self.mutation_status == \"mutated\":\n",
            "            self.insulin_secretion -= 30  # decreased insulin secretion due to mutation\n",
            "\n",
            "class DiabetesRisk(GameObject):\n",
            "    def __init__(self, risk_level=0):\n",
            "        super().__init__(\"DiabetesRisk\")\n",
            "        self.risk_level = risk_level\n",
            "\n",
            "    def assess_risk(self, insulin_secretion):\n",
            "        if insulin_secretion < 70:  # threshold for increased risk\n",
            "            self.risk_level += 1  # increase risk if insulin secretion is low\n",
            "\n",
            "class Simulation:\n",
            "    def __init__(self):\n",
            "        self.rootObject = self._initialize_simulation()\n",
            "        self.observationStr = self.rootObject.makeDescriptionStr()\n",
            "        self.generatePossibleActions()\n",
            "\n",
            "    def _initialize_simulation(self):\n",
            "        world = Container(\"environment\")\n",
            "        hnf4a_mutated = HNF4A(mutation_status=\"mutated\")\n",
            "        hnf4a_wild = HNF4A(mutation_status=\"wild_type\")\n",
            "        diabetes_risk = DiabetesRisk()\n",
            "\n",
            "        world.addObject(hnf4a_mutated)\n",
            "        world.addObject(hnf4a_wild)\n",
            "        world.addObject(diabetes_risk)\n",
            "\n",
            "        return world\n",
            "\n",
            "    def makeNameToObjectDict(self):\n",
            "        allObjects = self.rootObject.getAllContainedObjectsRecursive()\n",
            "        nameToObjectDict = {}\n",
            "        for obj in allObjects:\n",
            "            nameToObjectDict[obj.name] = [obj]\n",
            "        return nameToObjectDict\n",
            "\n",
            "    def generatePossibleActions(self):\n",
            "        self.possibleActions = {}\n",
            "        self.addAction(\"assess diabetes risk\", [\"assess\"])\n",
            "\n",
            "    def addAction(self, actionStr, actionArgs):\n",
            "        if actionStr not in self.possibleActions:\n",
            "            self.possibleActions[actionStr] = actionArgs\n",
            "\n",
            "    def step(self, actionStr):\n",
            "        self.observationStr = \"\"\n",
            "\n",
            "        if actionStr not in self.possibleActions:\n",
            "            self.observationStr = \"I don't understand that.\"\n",
            "            return self.observationStr\n",
            "\n",
            "        action = self.possibleActions[actionStr]\n",
            "        actionVerb = action[0]\n",
            "\n",
            "        if actionVerb == \"assess\":\n",
            "            hnf4a_mutated = self.rootObject.containsItemWithName(\"HNF4A\")[0]\n",
            "            diabetes_risk = self.rootObject.containsItemWithName(\"DiabetesRisk\")[0]\n",
            "\n",
            "            # Simulate the tick to update insulin secretion\n",
            "            hnf4a_mutated.tick()\n",
            "            diabetes_risk.assess_risk(hnf4a_mutated.insulin_secretion)\n",
            "\n",
            "            if diabetes_risk.risk_level > 0:\n",
            "                self.observationStr = \"The mutation in HNF4A has led to an increased risk of developing diabetes.\"\n",
            "            else:\n",
            "                self.observationStr = \"The mutation in HNF4A does not lead to an increased risk of developing diabetes.\"\n",
            "\n",
            "        return self.observationStr\n",
            "\n",
            "def main():\n",
            "    simulation = Simulation()\n",
            "    print(simulation.observationStr)\n",
            "    action = \"assess diabetes risk\"\n",
            "    print(f\"Action: {action}\")\n",
            "    obs = simulation.step(action)\n",
            "    print(obs)\n",
            "\n",
            "if __name__ == \"__main__\":\n",
            "    main()\n",
            "```\n"
          ]
        }
      ],
      "source": [
        "id = row['id']\n",
        "claim = row['claim']\n",
        "abstract = row['abstract']\n",
        "gold_evidence = row['gold_evidence']\n",
        "\n",
        "response = get_gpt_response(id, claim, abstract, gold_evidence)\n",
        "print(response)\n"
      ]
    },
    {
      "cell_type": "code",
      "execution_count": 29,
      "metadata": {
        "colab": {
          "base_uri": "https://localhost:8080/"
        },
        "id": "IakgWqAuMWob",
        "outputId": "6a39182d-3143-4bf0-80bf-4426d2ada771"
      },
      "outputs": [
        {
          "name": "stdout",
          "output_type": "stream",
          "text": [
            "In the environment, you see: \n",
            "\tA mouse_with_autophagy_deficiency with autophagy deficiency: True, insulin resistance level: 0.\n",
            "\tA mouse_without_autophagy_deficiency with autophagy deficiency: False, insulin resistance level: 0.\n",
            "\n",
            "Ticking...\n",
            "In the environment, you see: \n",
            "\tA mouse_with_autophagy_deficiency with autophagy deficiency: True, insulin resistance level: 1.\n",
            "\tA mouse_without_autophagy_deficiency with autophagy deficiency: False, insulin resistance level: 0.\n",
            "\n",
            "Ticking...\n",
            "In the environment, you see: \n",
            "\tA mouse_with_autophagy_deficiency with autophagy deficiency: True, insulin resistance level: 2.\n",
            "\tA mouse_without_autophagy_deficiency with autophagy deficiency: False, insulin resistance level: 0.\n",
            "\n",
            "Ticking...\n",
            "In the environment, you see: \n",
            "\tA mouse_with_autophagy_deficiency with autophagy deficiency: True, insulin resistance level: 3.\n",
            "\tA mouse_without_autophagy_deficiency with autophagy deficiency: False, insulin resistance level: 0.\n",
            "\n",
            "Ticking...\n",
            "In the environment, you see: \n",
            "\tA mouse_with_autophagy_deficiency with autophagy deficiency: True, insulin resistance level: 4.\n",
            "\tA mouse_without_autophagy_deficiency with autophagy deficiency: False, insulin resistance level: 0.\n",
            "\n",
            "Ticking...\n",
            "In the environment, you see: \n",
            "\tA mouse_with_autophagy_deficiency with autophagy deficiency: True, insulin resistance level: 5.\n",
            "\tA mouse_without_autophagy_deficiency with autophagy deficiency: False, insulin resistance level: 0.\n",
            "\n",
            "\n",
            "\n"
          ]
        }
      ],
      "source": [
        "code_block = parse_gpt_response(response)\n",
        "\n",
        "std_out, std_err = run_generated_simulation(code_block)\n",
        "\n",
        "print(std_out)\n",
        "print(std_err)"
      ]
    },
    {
      "cell_type": "code",
      "execution_count": 41,
      "metadata": {
        "id": "Yj3HtklxVw5-"
      },
      "outputs": [],
      "source": [
        "\n",
        "def get_gpt_verification(id, sim_output, claim, model=\"gpt-4o-mini\", **kwargs):\n",
        "\n",
        "    if not os.path.exists('gpt_ver_results/'):\n",
        "        os.makedirs('gpt_ver_results/')\n",
        "\n",
        "    system_prompt = \"\"\"\n",
        "        You are a scientific claim inspector, who can catch fake claims accurately and verify correct claims efficiently.\n",
        "        Your main responsibility is to look at the output of a simulation.\n",
        "        The simulation was run with the elements relevant to the given claim, and it displays a output that can give you details of the veraicity of the claim.\n",
        "\n",
        "        Inspect the output and understand the claim, to verify if the claim is supported or refuted.\n",
        "\n",
        "        You will be given the following information below:\n",
        "        1. A Claim\n",
        "        2. The output of a Simulation that can be used to help verify the claim.\n",
        "\n",
        "        Your output will be a python dictionary containing the following information:\n",
        "        {\n",
        "            \"claim\": the given claim as it is,\n",
        "            \"verification_result\": \"Supported\" or \"Refuted\" or None if you are unable to verify the claim,\n",
        "            \"reason\": reason of the verification result, or reason of the None output\n",
        "        }\n",
        "\n",
        "    \"\"\"\n",
        "\n",
        "    user_prompt = f\"\"\"\n",
        "        Claim: {claim}\n",
        "        Simulation Output: {sim_output}\n",
        "\n",
        "\n",
        "        Rules for the output:\n",
        "        1. Make sure the output of the simulation is appropriate to the given instructions.\n",
        "        2. If your verification_result is None, make sure to include the reason as to why you were note able to determine the result\n",
        "        3. Your verification result should only include None if the simulation output is an execution error, otherwise you should provide a definite result and a definite reason.\n",
        "\n",
        "        Please generate your verification result now\n",
        "    \"\"\"\n",
        "\n",
        "    messages=[{\"role\": \"system\", \"content\": system_prompt},\n",
        "                {\"role\": \"user\", \"content\": user_prompt}]\n",
        "\n",
        "    kwargs[\"temperature\"] = 0.0\n",
        "    kwargs[\"top_p\"] = 1\n",
        "    kwargs[\"frequency_penalty\"] = 0.0\n",
        "    kwargs[\"presence_penalty\"] = 0.0\n",
        "    kwargs[\"timeout\"] = 4*10*60  # 40 minutes\n",
        "    kwargs[\"model\"] = model\n",
        "    kwargs[\"messages\"] = messages\n",
        "\n",
        "\n",
        "    response = client.chat.completions.create(**kwargs)\n",
        "\n",
        "    with open(f'gpt_ver_results/prompt_{id}.txt', 'w') as f:\n",
        "        f.write(user_prompt)\n",
        "\n",
        "    with open(f'gpt_ver_results/response_{id}.txt', 'w') as f:\n",
        "        f.write(response.choices[0].message.content.strip())\n",
        "\n",
        "    return response.choices[0].message.content.strip()\n"
      ]
    },
    {
      "cell_type": "code",
      "execution_count": 42,
      "metadata": {
        "colab": {
          "base_uri": "https://localhost:8080/"
        },
        "id": "jqVML8S2dY_P",
        "outputId": "3f3b72d5-bc94-4aed-fe57-d4718b4e841f"
      },
      "outputs": [
        {
          "name": "stdout",
          "output_type": "stream",
          "text": [
            "{\n",
            "    \"claim\": \"Autophagy deficiency in the liver increases vulnerability to insulin resistance.\",\n",
            "    \"verification_result\": \"Supported\",\n",
            "    \"reason\": \"The simulation shows that the mouse with autophagy deficiency has increasing levels of insulin resistance (from 0 to 5), while the mouse without autophagy deficiency maintains an insulin resistance level of 0. This indicates that autophagy deficiency is associated with increased insulin resistance.\"\n",
            "}\n"
          ]
        }
      ],
      "source": [
        "\n",
        "sim_output = f\"\"\"\n",
        "        Simulation Output:\n",
        "        {std_out}\n",
        "\n",
        "        Simulation Error:\n",
        "        {std_err}\n",
        "    \"\"\"\n",
        "\n",
        "response = get_gpt_verification(id, sim_output, claim)\n",
        "print(response)"
      ]
    },
    {
      "cell_type": "code",
      "execution_count": 50,
      "metadata": {
        "colab": {
          "base_uri": "https://localhost:8080/"
        },
        "id": "bsG3QkMoexJR",
        "outputId": "cc794654-fed8-4c85-f438-0619930ad652"
      },
      "outputs": [
        {
          "data": {
            "text/plain": [
              "{'claim': 'Autophagy deficiency in the liver increases vulnerability to insulin resistance.',\n",
              " 'verification_result': 'Supported',\n",
              " 'reason': 'The simulation shows that the mouse with autophagy deficiency has increasing levels of insulin resistance (from 0 to 5), while the mouse without autophagy deficiency maintains an insulin resistance level of 0. This indicates that autophagy deficiency is associated with increased insulin resistance.'}"
            ]
          },
          "execution_count": 50,
          "metadata": {},
          "output_type": "execute_result"
        }
      ],
      "source": [
        "literal_eval(response)"
      ]
    },
    {
      "cell_type": "code",
      "execution_count": null,
      "metadata": {
        "id": "YsL-yaLx9eFk"
      },
      "outputs": [],
      "source": [
        "# !unzip '/content/verification_responses.zip' -d '/content/verification_responses/'"
      ]
    },
    {
      "cell_type": "markdown",
      "metadata": {},
      "source": [
        "## Evaluation"
      ]
    },
    {
      "cell_type": "code",
      "execution_count": 61,
      "metadata": {},
      "outputs": [
        {
          "data": {
            "text/plain": [
              "category\n",
              "biology         267\n",
              "cellular        126\n",
              "directional      92\n",
              "population       53\n",
              "medicine         22\n",
              "epidemiology      4\n",
              "Name: count, dtype: int64"
            ]
          },
          "execution_count": 61,
          "metadata": {},
          "output_type": "execute_result"
        }
      ],
      "source": [
        "train_annotated['category'].value_counts()"
      ]
    },
    {
      "cell_type": "code",
      "execution_count": 32,
      "metadata": {
        "id": "2U0QvrRN9tpI"
      },
      "outputs": [],
      "source": [
        "train_annotated = pd.read_json('../data/data/processed_data/extended_train_annotated.jsonl', lines=True)\n",
        "ver_dir = '../gpt_ver_results'\n",
        "ver_files = [filename for filename in os.listdir(ver_dir) if filename.startswith(\"response\")]\n",
        "\n",
        "train_results = train_annotated[train_annotated['category'].isin(['medicine', 'cellular', 'directional'])].copy()\n",
        "train_results['label'] = np.where(train_results['label'] == 'CONTRADICT', 'Refuted', 'Supported')\n",
        "\n",
        "train_results['verification_result'] = None\n",
        "train_results['reason'] = None\n",
        "\n",
        "\n",
        "for r in ver_files:\n",
        "    with open(os.path.join(ver_dir, r), 'r') as f:\n",
        "        ver_res = f.read()\n",
        "    \n",
        "    target_id = int(r.split('_')[-1].split('.')[0])\n",
        "    from_code = re.findall(r'```python(.*?)```', ver_res, re.DOTALL)\n",
        "\n",
        "    if from_code:\n",
        "        ver_res = from_code[0].strip()\n",
        "    \n",
        "    ver_res = literal_eval(ver_res)\n",
        "    \n",
        "    train_results.loc[train_results['id'] == target_id, 'verification_result'] = ver_res['verification_result']\n",
        "    train_results.loc[train_results['id'] == target_id, 'reason'] = ver_res['reason']\n",
        "\n",
        "train_results['matched'] = train_results.apply(lambda x: x['verification_result'] == x['label'], axis=1)\n",
        "train_results['verification_result'] = train_results['verification_result'].astype(str)"
      ]
    },
    {
      "cell_type": "code",
      "execution_count": 16,
      "metadata": {},
      "outputs": [],
      "source": [
        "train_results.to_csv(\"../data/data/processed_data/train_results.csv\", index=False)"
      ]
    },
    {
      "cell_type": "code",
      "execution_count": null,
      "metadata": {
        "colab": {
          "base_uri": "https://localhost:8080/",
          "height": 209
        },
        "id": "0X3jpLnIHmQA",
        "outputId": "f92dd8a0-4e5b-455f-aacb-ad14f90216b3"
      },
      "outputs": [
        {
          "data": {
            "text/html": [
              "<div>\n",
              "<style scoped>\n",
              "    .dataframe tbody tr th:only-of-type {\n",
              "        vertical-align: middle;\n",
              "    }\n",
              "\n",
              "    .dataframe tbody tr th {\n",
              "        vertical-align: top;\n",
              "    }\n",
              "\n",
              "    .dataframe thead th {\n",
              "        text-align: right;\n",
              "    }\n",
              "</style>\n",
              "<table border=\"1\" class=\"dataframe\">\n",
              "  <thead>\n",
              "    <tr style=\"text-align: right;\">\n",
              "      <th></th>\n",
              "      <th>correct_match</th>\n",
              "      <th>incorrect_match</th>\n",
              "      <th>errors</th>\n",
              "      <th>total</th>\n",
              "    </tr>\n",
              "  </thead>\n",
              "  <tbody>\n",
              "    <tr>\n",
              "      <th>cellular</th>\n",
              "      <td>68</td>\n",
              "      <td>27</td>\n",
              "      <td>31</td>\n",
              "      <td>126</td>\n",
              "    </tr>\n",
              "    <tr>\n",
              "      <th>directional</th>\n",
              "      <td>51</td>\n",
              "      <td>19</td>\n",
              "      <td>22</td>\n",
              "      <td>92</td>\n",
              "    </tr>\n",
              "    <tr>\n",
              "      <th>medicine</th>\n",
              "      <td>13</td>\n",
              "      <td>6</td>\n",
              "      <td>3</td>\n",
              "      <td>22</td>\n",
              "    </tr>\n",
              "  </tbody>\n",
              "</table>\n",
              "</div>"
            ],
            "text/plain": [
              "             correct_match  incorrect_match  errors  total\n",
              "cellular                68               27      31    126\n",
              "directional             51               19      22     92\n",
              "medicine                13                6       3     22"
            ]
          },
          "execution_count": 59,
          "metadata": {},
          "output_type": "execute_result"
        }
      ],
      "source": [
        "# train_results_directional[train_results_directional['matched'] == False]['verification_result'].value_counts()\n",
        "# train_results.groupby(['category'])['matched'].agg(\n",
        "#     correct_predictions = lambda x: (x == True).sum(),\n",
        "#     incorrect_match=lambda x: (x == False).sum(),\n",
        "#     errors=lambda x: (x == 'None').sum()\n",
        "\n",
        "# )\n",
        "\n",
        "results = {}\n",
        "\n",
        "groups = train_results.groupby('category')\n",
        "for category, group in groups:\n",
        "    # Calculate the sum of True values in 'matched' as correct_match\n",
        "    correct_match = group['matched'].sum()\n",
        "    \n",
        "    # Calculate the sum of False values in 'matched' as incorrect_match (subtracted None results to get actual inaccurate)\n",
        "    incorrect_match = (~group['matched']).sum() - (group['verification_result']=='None').sum()\n",
        "    \n",
        "    # Count the None values in 'verification_result' as errors\n",
        "    errors = (group['verification_result']=='None').sum()\n",
        "\n",
        "    total = len(group)\n",
        "    \n",
        "    # Store the results in the dictionary\n",
        "    results[category] = {\n",
        "        'correct_match': correct_match,\n",
        "        'incorrect_match': incorrect_match,\n",
        "        'errors': errors,\n",
        "        'total': total\n",
        "    }\n",
        "\n",
        "pd.DataFrame(results).T\n"
      ]
    },
    {
      "cell_type": "code",
      "execution_count": 62,
      "metadata": {},
      "outputs": [],
      "source": [
        "incorrect_results = train_results[train_results['matched'] == False]\n",
        "incorrect_results = incorrect_results[incorrect_results['verification_result'] != 'None']\n",
        "incorrect_results = incorrect_results.reset_index(drop=True)"
      ]
    },
    {
      "cell_type": "code",
      "execution_count": 64,
      "metadata": {},
      "outputs": [
        {
          "data": {
            "text/plain": [
              "label\n",
              "Supported    5\n",
              "Refuted      1\n",
              "Name: count, dtype: int64"
            ]
          },
          "execution_count": 64,
          "metadata": {},
          "output_type": "execute_result"
        }
      ],
      "source": [
        "incorrect_results[incorrect_results['category'] == 'medicine']['label'].value_counts()"
      ]
    },
    {
      "cell_type": "code",
      "execution_count": 78,
      "metadata": {},
      "outputs": [
        {
          "name": "stdout",
          "output_type": "stream",
          "text": [
            "Evidence:  Policies requiring discontinuation of methadone in 32% of all programs contradict the evidence base for efficacy of long-term replacement therapies and potentially result in relapse of previously stable patients.\n",
            "Claim:  32% of liver transplantation programs required patients to discontinue methadone treatment in 2001.\n",
            "Status:  Supported\n",
            "--------------------------------------------------\n",
            "Evidence:  RESULTS Tricyclic antidepressant medication and stress management therapy each produced larger reductions in headache activity, analgesic medication use, and headache-related disability than placebo, but antidepressant medication yielded more rapid improvements in headache activity.Combined therapy was more likely to produce clinically significant (>/=50%) reductions in headache index scores (64% of participants) than antidepressant medication (38% of participants; P =.006), stress management therapy (35%; P =.003), or placebo (29%; P =.001).CONCLUSIONS Our results indicate that antidepressant medication and stress management therapy are each modestly effective in treating chronic tension-type headaches.\n",
            "Claim:  Amitriptyline is an effective treatment for chronic tension-type headaches.\n",
            "Status:  Supported\n",
            "--------------------------------------------------\n",
            "Evidence:  The tricyclic antidepressant, amitriptyline, is an effective drug for the treatment of chronic tension-type headache and for other chronic pain syndromes, but it is also effective in the prophylaxis of an episodic type of headache such as migraine.Amitriptyline significantly reduced (P < 0.05) frequency and duration of headache as well as analgesic consumption in chronic, but not in episodic, tension-type headache.\n",
            "Claim:  Amitriptyline is an effective treatment for chronic tension-type headaches.\n",
            "Status:  Supported\n",
            "--------------------------------------------------\n",
            "Evidence:  Amitriptyline is the medication of first choice in the treatment of chronic tension-type headache.The primary study endpoint was a reduction of at least 50% of the product of headache duration and frequency and a reduction of at least 50% in headache intensity.A reduction in headache duration and frequency of at least 50% was found in 39.4% on AO, in 25.4% on AM and in 26.6% on PL (PAO-PL = .1384, PAM-PL = 1.000, PAO-AM = .0973).A reduction in headache intensity of at least 50% was found in 31.8% on AO, in 26.9% on AM and in 26.6% on PL (PAO-PL = .5657, PAM-PL = 1.000, PAO-AM = .5715).\n",
            "Claim:  Amitriptyline is an effective treatment for chronic tension-type headaches.\n",
            "Status:  Supported\n",
            "--------------------------------------------------\n",
            "Evidence:  Treatment of 12 healthy female subjects with CDCA for 2 days resulted in increased BAT activity.\n",
            "Claim:  Chenodeoxycholic acid treatment decreases brown adipose tissue activity.\n",
            "Status:  Refuted\n",
            "--------------------------------------------------\n",
            "Evidence:  Deletion of the gene encoding FN from young regenerating muscles replicates the aging phenotype and leads to a loss of MuSC numbers.Reconstitution of FN levels in the aged niche remobilizes stem cells and restores youth-like muscle regeneration.\n",
            "Claim:  Treatment with a protein named FN restores regenerative abilities of aged muscles.\n",
            "Status:  Supported\n",
            "--------------------------------------------------\n"
          ]
        }
      ],
      "source": [
        "for i, row in incorrect_results[incorrect_results['category'] == 'medicine'].iterrows():\n",
        "    print(\"Evidence: \", \"\".join(row['gold_evidence']))\n",
        "    print(\"Claim: \", row['claim'])\n",
        "    print(\"Status: \", row['label'])\n",
        "    print(\"-\"*50)"
      ]
    },
    {
      "cell_type": "code",
      "execution_count": 65,
      "metadata": {},
      "outputs": [
        {
          "data": {
            "text/plain": [
              "label\n",
              "Supported    22\n",
              "Refuted       5\n",
              "Name: count, dtype: int64"
            ]
          },
          "execution_count": 65,
          "metadata": {},
          "output_type": "execute_result"
        }
      ],
      "source": [
        "incorrect_results[incorrect_results['category'] == 'cellular']['label'].value_counts()"
      ]
    },
    {
      "cell_type": "code",
      "execution_count": 77,
      "metadata": {},
      "outputs": [
        {
          "name": "stdout",
          "output_type": "stream",
          "text": [
            "Evidence:  We report that activation of basophils by autoreactive IgE causes their homing to lymph nodes, promoting T helper type 2 (T(H)2) cell differentiation and enhancing the production of self-reactive antibodies that cause lupus-like nephritis in mice lacking the Src family protein tyrosine kinase Lyn (Lyn(-/-) mice).Individuals with SLE also have elevated serum IgE, self-reactive IgEs and activated basophils that express CD62 ligand (CD62L) and the major histocompatibility complex (MHC) class II molecule human leukocyte antigen-DR (HLA-DR), parameters that are associated with increased disease activity and active lupus nephritis.Thus, in Lyn(-/-) mice, basophils and IgE autoantibodies amplify autoantibody production that leads to lupus nephritis, and in individuals with SLE IgE autoantibodies and activated basophils are factors associated with disease activity and nephritis.\n",
            "Claim:  A T helper 2 cell (Th2) environment impedes disease development in patients with systemic lupus erythematosus (SLE).\n",
            "Status:  Refuted\n",
            "--------------------------------------------------\n",
            "Evidence:  Interruption of the Cdk5-ATM pathway attenuates DNA-damage-induced neuronal cell cycle re-entry and expression of the p53 targets PUMA and Bax, protecting neurons from death.\n",
            "Claim:  Activated Cdk5 regulates DNA damage-induced neuronal death.\n",
            "Status:  Supported\n",
            "--------------------------------------------------\n",
            "Evidence:  However, caspase-11 was dispensable for the fusion of lysosomes with phagosomes containing nonpathogenic bacteria, uncovering a fundamental difference in the trafficking of phagosomes according to their cargo.\n",
            "Claim:  Active caspase-11 participate in regulating phagosome-lysosome fusion.\n",
            "Status:  Supported\n",
            "--------------------------------------------------\n",
            "Evidence:  We have demonstrated that major tissue-resident macrophage populations, including liver Kupffer cells and lung alveolar, splenic, and peritoneal macrophages, are established prior to birth and maintain themselves subsequently during adulthood independent of replenishment by blood monocytes.\n",
            "Claim:  Adult tissue-resident macrophages are seeded before birth.\n",
            "Status:  Supported\n",
            "--------------------------------------------------\n",
            "Evidence:  Recently, it has become evident that most adult tissue macrophages originate during embryonic development and not from circulating monocytes.\n",
            "Claim:  Adult tissue-resident macrophages are seeded before birth.\n",
            "Status:  Supported\n",
            "--------------------------------------------------\n",
            "Evidence:  Strikingly, live mice can be obtained upon injection of AG-haESCs into MII oocytes, and these mice bear haESC-carried genetic traits and develop into fertile adults.Our results demonstrate that AG-haESCs can be used as a genetically tractable fertilization agent for the production of live animals via injection into oocytes.\n",
            "Claim:  Androgenetic haploid mouse embryonic stem cells (ESCs) can be derived and genetically manipulated in vitro.\n",
            "Status:  Supported\n",
            "--------------------------------------------------\n",
            "Evidence:  Here, integrating human tumour genomics and syngeneic mammary tumour models, we demonstrate that mTOR signalling in cancer cells dictates a mammary tumour's ability to stimulate MDSC accumulation through regulating G-CSF.\n",
            "Claim:  Cancer cells can stimulate the accumulation of intra-tumoural myeloid-derived suppressor cells by promoting granulocyte colony stimulating factor production.\n",
            "Status:  Supported\n",
            "--------------------------------------------------\n",
            "Evidence:  Replication-timing changes were coordinated with transcription changes for weak promoters more than strong promoters, and were accompanied by rearrangements in subnuclear position.\n",
            "Claim:  Cellular differentiation of embryonic stem cells is accompanied by changes in replication timing, transcription and nuclear localization.\n",
            "Status:  Supported\n",
            "--------------------------------------------------\n",
            "Evidence:  Here, we show that the haematopoietic progenitors of Drosophila are direct targets of systemic (insulin) and nutritional (essential amino acid) signals, and that these systemic signals maintain the progenitors by promoting Wingless (WNT in mammals) signalling.\n",
            "Claim:  Differentiation of progenitor cells to myeloid cells is skewed when insulin signaling is suppressed.\n",
            "Status:  Supported\n",
            "--------------------------------------------------\n",
            "Evidence:  Based on tetraploid complementation, we found that ectopic expression of Sall4, Nanog, Esrrb, and Lin28 (SNEL) in mouse embryonic fibroblasts (MEFs) generated high-quality iPSCs more efficiently than other combinations of factors including OSKM.\n",
            "Claim:  Ectopic expression of Sall4, Nanog, Esrrb, and Lin28 generates induced pluripotent stem cells from mouse embryonic fibroblasts more efficiently than other factor combinations.\n",
            "Status:  Supported\n",
            "--------------------------------------------------\n",
            "Evidence:  Here, we report that deletion of both transcription factors Egr2 and Egr3 in lymphocytes resulted in a lethal autoimmune syndrome with excessive serum proinflammatory cytokines but also impaired antigen receptor-induced proliferation of B and T cells.Egr2- and Egr3-defective B and T cells had hyperactive signal transducer and activator of transcription-1 (STAT1) and STAT3 while antigen receptor-induced activation of transcription factor AP-1 was severely impaired.We discovered that Egr2 and/or Egr3 directly induced expression of suppressor of cytokine signaling-1 (SOCS1) and SOCS3, inhibitors of STAT1 and STAT3, and also blocked the function of Batf, an AP-1 inhibitor, in B and T cells.Thus, Egr2 and Egr3 regulate B and T cell function in adaptive immune responses and homeostasis by promoting antigen receptor signaling and controlling inflammation.\n",
            "Claim:  Egr2 regulates the homeostasis of B and T cells.\n",
            "Status:  Supported\n",
            "--------------------------------------------------\n",
            "Evidence:  Here, we report that deletion of both transcription factors Egr2 and Egr3 in lymphocytes resulted in a lethal autoimmune syndrome with excessive serum proinflammatory cytokines but also impaired antigen receptor-induced proliferation of B and T cells.Egr2- and Egr3-defective B and T cells had hyperactive signal transducer and activator of transcription-1 (STAT1) and STAT3 while antigen receptor-induced activation of transcription factor AP-1 was severely impaired.We discovered that Egr2 and/or Egr3 directly induced expression of suppressor of cytokine signaling-1 (SOCS1) and SOCS3, inhibitors of STAT1 and STAT3, and also blocked the function of Batf, an AP-1 inhibitor, in B and T cells.Thus, Egr2 and Egr3 regulate B and T cell function in adaptive immune responses and homeostasis by promoting antigen receptor signaling and controlling inflammation.\n",
            "Claim:  Egr3 regulates the homeostasis of B and T cells.\n",
            "Status:  Supported\n",
            "--------------------------------------------------\n",
            "Evidence:  Medical ICU patients with an elevated mtDNA level (≥3,200 copies/µl plasma) had increased odds of dying within 28 d of ICU admission in both the BWH RoCI (odds ratio [OR] 7.5, 95% CI 3.6-15.8, p = 1×10(-7)) and ME ARDS (OR 8.4, 95% CI 2.9-24.2, p = 9×10(-5)) cohorts, while no evidence for association was noted in non-medical ICU patients.In the BWH RoCI cohort, those with an elevated mtDNA level had an increased risk of death, even in analyses limited to patients with sepsis or acute respiratory distress syndrome.CONCLUSIONS Increased mtDNA levels are associated with ICU mortality, and inclusion of mtDNA level improves risk prediction in medical ICU patients.\n",
            "Claim:  Elevated cell-free mitochondrial DNA levels are associated with mortality.\n",
            "Status:  Supported\n",
            "--------------------------------------------------\n",
            "Evidence:  Liver ATP levels were similar in the 2 groups before fructose infusion and decreased similarly in both after fructose infusion (P = .01 vs initial ATP levels).\n",
            "Claim:  Healthy volunteers exhibit rapid and transient increase of cellular ATP after being bolus-injected with fructose.\n",
            "Status:  Refuted\n",
            "--------------------------------------------------\n",
            "Evidence:  Fibroblast-specific FAK knockout mice have substantially less inflammation and fibrosis than control mice in a model of hypertrophic scar formation.Similarly, MCP-1 knockout mice form minimal scars, indicating that inflammatory chemokine pathways are a major mechanism by which FAK mechanotransduction induces fibrosis.Small-molecule inhibition of FAK blocks these effects in human cells and reduces scar formation in vivo through attenuated MCP-1 signaling and inflammatory cell recruitment.These findings collectively indicate that physical force regulates fibrosis through inflammatory FAK–ERK–MCP-1 pathways and that molecular strategies targeting FAK can effectively uncouple mechanical force from pathologic scar formation.\n",
            "Claim:  Inhibiting focal adhesion formation enables cells to convert mechanical strain into eventual scarring.\n",
            "Status:  Refuted\n",
            "--------------------------------------------------\n",
            "Evidence:  Fibroblast-specific FAK knockout mice have substantially less inflammation and fibrosis than control mice in a model of hypertrophic scar formation.These findings collectively indicate that physical force regulates fibrosis through inflammatory FAK–ERK–MCP-1 pathways and that molecular strategies targeting FAK can effectively uncouple mechanical force from pathologic scar formation.\n",
            "Claim:  Inhibiting focal adhesion formation increases the rate at which cells convert mechanical strain into inflammation and fibrosis.\n",
            "Status:  Refuted\n",
            "--------------------------------------------------\n",
            "Evidence:  Several members of the Kruppel-like factor (KLF) family of transcription factors play important roles in differentiation, survival, and trafficking of blood and immune cell types.Thus, our in vivo loss-of-function studies demonstrate that KLF4, previously shown to mediate proinflammatory signaling in human macrophages in vitro, is essential for differentiation of mouse inflammatory monocytes, and is involved in the differentiation of resident monocytes.In addition, inducible expression of KLF4 in the HL60 human acute myeloid leukemia cell line stimulated monocytic differentiation and enhanced 12-O-tetradecanoylphorbol 13-acetate induced macrophage differentiation, but blocked all-trans-retinoic acid induced granulocytic differentiation of HL60 cells.The inflammation-selective effects of loss-of-KLF4 and the gain-of-KLF4-induced monocytic differentiation in HL60 cells identify KLF4 as a key regulator of monocytic differentiation and a potential target for translational immune modulation.\n",
            "Claim:  Klf4 is important for proper myeloid cell differentiation.\n",
            "Status:  Supported\n",
            "--------------------------------------------------\n",
            "Evidence:  Here, we report that the Notch ligand Jagged1 induced by growth factors via mitogen-activating protein kinase (MAPK) in head and neck squamous cell carcinoma (HNSCC) cells triggered Notch activation in neighboring endothelial cells (ECs) and promoted capillary-like sprout formation.Our results elucidate a novel mechanism by which the direct interplay between tumor cells and ECs promotes angiogenesis through MAPK and Notch signaling pathways.\n",
            "Claim:  Notch signaling occurs between tumor cells and stromal cells.\n",
            "Status:  Supported\n",
            "--------------------------------------------------\n",
            "Evidence:  We recently demonstrated that Notch signaling is involved in proliferation and survival of B cell-derived tumor cells of classic Hodgkin disease and described a novel mechanism for the oncogenic capacity of Notch.\n",
            "Claim:  Notch signaling occurs between tumor cells and stromal cells.\n",
            "Status:  Supported\n",
            "--------------------------------------------------\n",
            "Evidence:  We found that expression of progerin in iPSC-derived fibroblasts and neurons induces multiple aging-related markers and characteristics, including dopamine-specific phenotypes such as neuromelanin accumulation.Thus, our study suggests that progerin-induced aging can be used to reveal late-onset age-related disease features in hiPSC-based disease models.\n",
            "Claim:  Progerin induces premature aging in stem cells.\n",
            "Status:  Supported\n",
            "--------------------------------------------------\n",
            "Evidence:  In order to test directly that an approximately twofold reduction in IL-2 underpins the Idd3-linked destabilization of immune homeostasis, we show that engineered haplodeficiency of Il2 gene expression not only reduces T cell IL-2 production by twofold but also mimics the autoimmune dysregulatory effects of the naturally occurring susceptibility alleles of Il2.Reduced IL-2 production achieved by either genetic mechanism correlates with reduced function of CD4+ CD25+ regulatory T cells, which are critical for maintaining immune homeostasis.\n",
            "Claim:  Reduced responsiveness to interleukin-2 in regulatory T cells is associated with autoimmune diseases such as Type 1 Diabetes.\n",
            "Status:  Supported\n",
            "--------------------------------------------------\n",
            "Evidence:  We demonstrated that the presence of an autoimmune disease-associated IL2RA haplotype correlates with diminished IL-2 responsiveness in Ag-experienced CD4(+) T cells, as measured by phosphorylation of STAT5a, and is associated with lower levels of FOXP3 expression by Tregs and a reduction in their ability to suppress proliferation of autologous effector T cells.\n",
            "Claim:  Reduced responsiveness to interleukin-2 in regulatory T cells is associated with autoimmune diseases such as Type 1 Diabetes.\n",
            "Status:  Supported\n",
            "--------------------------------------------------\n",
            "Evidence:  Moreover, KDM4E plays a more crucial role in IVF and SCNT embryonic development, and overexpression of KDM4E can restore the global transcriptome, improve blastocyst formation and increase the cloning efficiency of SCNT embryos.\n",
            "Claim:  Removal of H3K9me3 improves reprogramming efficiency in human somatic cell nuclear transfer experiments.\n",
            "Status:  Supported\n",
            "--------------------------------------------------\n",
            "Evidence:  T cell receptor (TCR-CD3) triggering involves both receptor clustering and conformational changes at the cytoplasmic tails of the CD3 subunits.This conformational change at CD3 reverts upon ligand dissociation and is required for T cell activation.\n",
            "Claim:  T cell receptor /CD3 microdomains are required to induce the immunologic synapse.\n",
            "Status:  Supported\n",
            "--------------------------------------------------\n",
            "Evidence:  Blimp1 (Prdm1), the key determinant of primordial germ cells (PGCs), plays a combinatorial role with Prdm14 during PGC specification from postimplantation epiblast cells.\n",
            "Claim:  The PRDM1 gene, when combined with the PRDM14 gene, plays an important role during primordial germ cell specification.\n",
            "Status:  Supported\n",
            "--------------------------------------------------\n",
            "Evidence:  The oncogenic BCR/ABL tyrosine kinase induces constitutive DNA damage in Philadelphia chromosome (Ph)-positive leukemia cells.We find that BCR/ABL-induced reactive oxygen species (ROSs) cause chronic oxidative DNA damage resulting in double-strand breaks (DSBs) in S and G(2)/M cell cycle phases.We propose that the following series of events may contribute to genomic instability of Ph-positive leukemias: BCR/ABL --> ROSs --> oxidative DNA damage --> DSBs in proliferating cells --> unfaithful HRR and NHEJ repair.\n",
            "Claim:  The generation of reactive oxygen species by activated oncogenes contributes to the increased genomic instability of leukaemia cells.\n",
            "Status:  Supported\n",
            "--------------------------------------------------\n",
            "Evidence:  The oncogenic BCR/ABL tyrosine kinase induces constitutive DNA damage in Philadelphia chromosome (Ph)-positive leukemia cells.We find that BCR/ABL-induced reactive oxygen species (ROSs) cause chronic oxidative DNA damage resulting in double-strand breaks (DSBs) in S and G(2)/M cell cycle phases.We propose that the following series of events may contribute to genomic instability of Ph-positive leukemias: BCR/ABL --> ROSs --> oxidative DNA damage --> DSBs in proliferating cells --> unfaithful HRR and NHEJ repair.\n",
            "Claim:  The removal of reactive oxygen species by activated oncogenes contributes to the increased genomic instability of leukaemia cells.\n",
            "Status:  Refuted\n",
            "--------------------------------------------------\n"
          ]
        }
      ],
      "source": [
        "for i, row in incorrect_results[incorrect_results['category'] == 'cellular'].iterrows():\n",
        "    print(\"Evidence: \", \"\".join(row['gold_evidence']))\n",
        "    print(\"Claim: \", row['claim'])\n",
        "    print(\"Status: \", row['label'])\n",
        "    print(\"-\"*50)"
      ]
    },
    {
      "cell_type": "code",
      "execution_count": 66,
      "metadata": {},
      "outputs": [
        {
          "data": {
            "text/plain": [
              "label\n",
              "Supported    13\n",
              "Refuted       6\n",
              "Name: count, dtype: int64"
            ]
          },
          "execution_count": 66,
          "metadata": {},
          "output_type": "execute_result"
        }
      ],
      "source": [
        "incorrect_results[incorrect_results['category'] == 'directional']['label'].value_counts()"
      ]
    },
    {
      "cell_type": "code",
      "execution_count": 79,
      "metadata": {},
      "outputs": [
        {
          "name": "stdout",
          "output_type": "stream",
          "text": [
            "Evidence:  No association was detected between bariatric surgery and fractures, cancer, or stroke.\n",
            "Claim:  Bariatric surgery increases rates of colorectal cancer.\n",
            "Status:  Supported\n",
            "--------------------------------------------------\n",
            "Evidence:  No association was detected between bariatric surgery and fractures, cancer, or stroke.\n",
            "Claim:  Bariatric surgery increases rates of postmenopausal breast cancer.\n",
            "Status:  Supported\n",
            "--------------------------------------------------\n",
            "Evidence:  The suppression of TDP-43 mitochondrial localization abolishes WT and mutant TDP-43-induced mitochondrial dysfunction and neuronal loss, and improves phenotypes of transgenic mutant TDP-43 mice.\n",
            "Claim:  Blocking the interaction between TDP-43 and respiratory complex I proteins ND3 and ND6 prevents TDP-43-induced neuronal loss.\n",
            "Status:  Supported\n",
            "--------------------------------------------------\n",
            "Evidence:  Risk of dementia associated with a longer reproductive period was most pronounced in APOE epsilon4 carriers (adjusted RR for >39 reproductive years compared with <34 reproductive years, 4.20 [95% CI, 1.97-8.92] for dementia and 3.42 [95% CI, 1.51-7.75] for AD), whereas in noncarriers, no clear association with dementia or AD was observed.   \n",
            "\n",
            "Claim:  Female carriers of the Apolipoprotein E4 (APOE4) allele have longer lifetime exposure to estrogen due to an increased reproductive period.\n",
            "Status:  Supported\n",
            "--------------------------------------------------\n",
            "Evidence:  Risk of dementia associated with a longer reproductive period was most pronounced in APOE epsilon4 carriers (adjusted RR for >39 reproductive years compared with <34 reproductive years, 4.20 [95% CI, 1.97-8.92] for dementia and 3.42 [95% CI, 1.51-7.75] for AD), whereas in noncarriers, no clear association with dementia or AD was observed.   \n",
            "\n",
            "Claim:  Female carriers of the Apolipoprotein E4 (APOE4) allele have shorter lifetime exposure to estrogen due to a decreased reproductive period.\n",
            "Status:  Refuted\n",
            "--------------------------------------------------\n",
            "Evidence:  Here, integrating human tumour genomics and syngeneic mammary tumour models, we demonstrate that mTOR signalling in cancer cells dictates a mammary tumour's ability to stimulate MDSC accumulation through regulating G-CSF.\n",
            "Claim:  G-CSF increases the expansion and infiltration of MDSCs into tumors.\n",
            "Status:  Supported\n",
            "--------------------------------------------------\n",
            "Evidence:  Here Gpr124 conditional knockout (CKO) in the endothelia of adult mice did not affect homeostatic BBB integrity, but resulted in BBB disruption and microvascular hemorrhage in mouse models of both ischemic stroke and glioblastoma, accompanied by reduced cerebrovascular canonical Wnt–β-catenin signaling.\n",
            "Claim:  Gpr124 increases BBB breakdown in mouse models of ischemic stroke.\n",
            "Status:  Refuted\n",
            "--------------------------------------------------\n",
            "Evidence:  Compared with diastolic blood pressure, raised systolic blood pressure had a greater effect on angina, myocardial infarction, and peripheral arterial disease, whereas raised diastolic blood pressure had a greater effect on abdominal aortic aneurysm than did raised systolic pressure.\n",
            "Claim:  Increased diastolic blood pressure (DBP) is associated with abdominal aortic aneurysm.\n",
            "Status:  Supported\n",
            "--------------------------------------------------\n",
            "Evidence:  In vitro, increasing microtubule acetylation using deacetylase inhibitors or the tubulin acetylase αTAT1 prevents association of mutant LRRK2 with microtubules, and the deacetylase inhibitor trichostatin A (TSA) restores axonal transport.\n",
            "Claim:  Increased microtubule acetylation exacerbates LRRK2 Roc-COR domain mutation induced locomotor deficits.\n",
            "Status:  Refuted\n",
            "--------------------------------------------------\n",
            "Evidence:  In vitro, increasing microtubule acetylation using deacetylase inhibitors or the tubulin acetylase αTAT1 prevents association of mutant LRRK2 with microtubules, and the deacetylase inhibitor trichostatin A (TSA) restores axonal transport.In vivo knockdown of the deacetylases HDAC6 and Sirt2, or administration of TSA rescues both axonal transport and locomotor behavior.\n",
            "Claim:  Increased microtubule acetylation worsens interference of axonal transport caused by LRRK2 Roc-COR domain mutations.\n",
            "Status:  Refuted\n",
            "--------------------------------------------------\n",
            "Evidence:  CONTEXT Hyperhomocysteinemia is caused by genetic and lifestyle influences, including low intakes of folate and vitamin B6.\n",
            "Claim:  Intake of folic acid (FA) and vitamin B6 (VB6) increases levels of homocysteine.\n",
            "Status:  Refuted\n",
            "--------------------------------------------------\n",
            "Evidence:  Paradoxically, this phosphorylation increases MafA-transcriptional activity through the recruitment of the coactivator P/CAF.\n",
            "Claim:  MafA ubiquitination increases the recruitment of coavtivator P/CAF by MafA.\n",
            "Status:  Supported\n",
            "--------------------------------------------------\n",
            "Evidence:  rim1 mutations cause reduced expression of IME1, which is required for expression of many meiotic genes, and thus lead to a partial defect in meiosis and spore formation.These findings suggest that RIM1 acts independently of MCK1 and IME4 to stimulate IME1 expression.\n",
            "Claim:  Mutations in RIM1 decrease levels of IME1 RNA.\n",
            "Status:  Supported\n",
            "--------------------------------------------------\n",
            "Evidence:  Remarkably, PDS reduces proliferation of HR-defective cells by inducing DSB accumulation, checkpoint activation, and deregulated G2/M progression and by enhancing the replication defect intrinsic to HR deficiency.\n",
            "Claim:  Pyridostatin induces double-strand breaks accumulation.\n",
            "Status:  Supported\n",
            "--------------------------------------------------\n",
            "Evidence:  The group of other antidepressants was associated with the highest adjusted hazard ratios for all cause mortality (1.66, 1.56 to 1.77), attempted suicide/self harm (5.16, 3.90 to 6.83), stroke/transient ischaemic attack (1.37, 1.22 to 1.55), fracture (1.64, 1.46 to 1.84), and epilepsy/seizures (2.24, 1.60 to 3.15), compared with when antidepressants were not being used.\n",
            "Claim:  Side effects associated with antidepressants increases risk of stroke.\n",
            "Status:  Supported\n",
            "--------------------------------------------------\n",
            "Evidence:  Patients who used azathioprine, methotrexate, mycophenolate mofetil, ciclosporin, systemic corticosteroids, or dapsone had overall and cancer mortality similar to that of patients who never took immunosuppressive drugs.CONCLUSIONS Most commonly used immunosuppressive drugs do not seem to increase overall or cancer mortality.\n",
            "Claim:  Systemic immunosuppressive (IS) therapy does not enhance the chance of cancer mortality in patients with inflammatory eye disease (IED)\n",
            "Status:  Supported\n",
            "--------------------------------------------------\n",
            "Evidence:  The adverse effect is less severe in sons, although links to testicular cancer and urogenital anomalies, such as epididymal cysts, have been reported.2 3 A recent study also found an increased risk of hypospadias in the sons of women exposed to diethylstilbestrol in utero.4 Clomifene has a half life of about five days, but its metabolites have been found in blood samples on day 22 of the menstrual cycle and in faeces up to six weeks after administration.5 The occurrence of hypospadias may be increasing.\n",
            "Claim:  There is no increased risk of hypospadias with clomiphene.\n",
            "Status:  Refuted\n",
            "--------------------------------------------------\n",
            "Evidence:  Vaccination through large intestinal mucosa, previously proven protective for both of these mucosal sites in animal studies, can be achieved successfully by direct intracolorectal (i.c.r.) administration, but this route is clinically impractical.Therefore, we designed a large intestine-targeted oral delivery with pH-dependent microparticles containing vaccine nanoparticles, which induced colorectal immunity in mice comparably to colorectal vaccination and protected against rectal and vaginal viral challenge.Therefore, using this oral vaccine delivery system to target the large intestine, but not the small intestine, may represent a feasible new strategy for immune protection of rectal and vaginal mucosa.\n",
            "Claim:  Vaccinating the gastrointestinal tract induces protection of rectal and vaginal mucosa.\n",
            "Status:  Supported\n",
            "--------------------------------------------------\n",
            "Evidence:  Interestingly, the loss of PKCζ in mice results in enhanced intestinal tumorigenesis and increased levels of these two metabolic enzymes, whereas patients with low levels of PKCζ have a poor prognosis.Taken together, this demonstrates that PKCζ is a critical metabolic tumor suppressor in mouse and human cancer.\n",
            "Claim:  aPKCz causes tumour suppression by affecting glutamine metabolism.\n",
            "Status:  Supported\n",
            "--------------------------------------------------\n"
          ]
        }
      ],
      "source": [
        "for i, row in incorrect_results[incorrect_results['category'] == 'directional'].iterrows():\n",
        "    print(\"Evidence: \", \"\".join(row['gold_evidence']))\n",
        "    print(\"Claim: \", row['claim'])\n",
        "    print(\"Status: \", row['label'])\n",
        "    print(\"-\"*50)"
      ]
    }
  ],
  "metadata": {
    "colab": {
      "provenance": []
    },
    "kernelspec": {
      "display_name": "simsci",
      "language": "python",
      "name": "python3"
    },
    "language_info": {
      "codemirror_mode": {
        "name": "ipython",
        "version": 3
      },
      "file_extension": ".py",
      "mimetype": "text/x-python",
      "name": "python",
      "nbconvert_exporter": "python",
      "pygments_lexer": "ipython3",
      "version": "3.11.7"
    }
  },
  "nbformat": 4,
  "nbformat_minor": 0
}
